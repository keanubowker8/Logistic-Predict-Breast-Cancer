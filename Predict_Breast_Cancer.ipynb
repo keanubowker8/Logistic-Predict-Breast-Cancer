{
 "cells": [
  {
   "cell_type": "markdown",
   "metadata": {},
   "source": [
    "<h1> Objective </h1>\n",
    "<blockquote>\n",
    "    \n",
    "Predict the class of breast cancer (malignant or ‘bad’ versus benign or ‘good’) from the features of images taken from breast samples.\n",
    "    \n",
    "</blockquote>"
   ]
  },
  {
   "cell_type": "code",
   "execution_count": 1,
   "metadata": {},
   "outputs": [],
   "source": [
    "import pandas as pd\n",
    "import numpy as np\n",
    "import matplotlib.pyplot as plt\n",
    "import seaborn as sns\n",
    "import statistics\n",
    "from scipy import stats\n",
    "from sklearn.model_selection import train_test_split\n",
    "from sklearn.linear_model import LogisticRegression\n",
    "from sklearn import metrics\n",
    "from sklearn.metrics import accuracy_score\n",
    "from sklearn.metrics import classification_report\n",
    "from sklearn.metrics import confusion_matrix\n",
    "from xgboost import XGBClassifier\n",
    "from sklearn.metrics import roc_auc_score\n",
    "from sklearn.metrics import roc_curve\n",
    "sns.set()"
   ]
  },
  {
   "cell_type": "markdown",
   "metadata": {},
   "source": [
    "<h2> Loading in dataset </h2>\n"
   ]
  },
  {
   "cell_type": "code",
   "execution_count": 2,
   "metadata": {},
   "outputs": [],
   "source": [
    "cancer_df =  pd.read_csv('data/cancer.data', sep=\",\",header=None)"
   ]
  },
  {
   "cell_type": "markdown",
   "metadata": {},
   "source": [
    "<h2> Examining the dataset </h2>\n"
   ]
  },
  {
   "cell_type": "code",
   "execution_count": 3,
   "metadata": {},
   "outputs": [
    {
     "data": {
      "text/html": [
       "<div>\n",
       "<style scoped>\n",
       "    .dataframe tbody tr th:only-of-type {\n",
       "        vertical-align: middle;\n",
       "    }\n",
       "\n",
       "    .dataframe tbody tr th {\n",
       "        vertical-align: top;\n",
       "    }\n",
       "\n",
       "    .dataframe thead th {\n",
       "        text-align: right;\n",
       "    }\n",
       "</style>\n",
       "<table border=\"1\" class=\"dataframe\">\n",
       "  <thead>\n",
       "    <tr style=\"text-align: right;\">\n",
       "      <th></th>\n",
       "      <th>0</th>\n",
       "      <th>1</th>\n",
       "      <th>2</th>\n",
       "      <th>3</th>\n",
       "      <th>4</th>\n",
       "      <th>5</th>\n",
       "      <th>6</th>\n",
       "      <th>7</th>\n",
       "      <th>8</th>\n",
       "      <th>9</th>\n",
       "      <th>10</th>\n",
       "    </tr>\n",
       "  </thead>\n",
       "  <tbody>\n",
       "    <tr>\n",
       "      <th>0</th>\n",
       "      <td>1000025</td>\n",
       "      <td>5</td>\n",
       "      <td>1</td>\n",
       "      <td>1</td>\n",
       "      <td>1</td>\n",
       "      <td>2</td>\n",
       "      <td>1</td>\n",
       "      <td>3</td>\n",
       "      <td>1</td>\n",
       "      <td>1</td>\n",
       "      <td>2</td>\n",
       "    </tr>\n",
       "    <tr>\n",
       "      <th>1</th>\n",
       "      <td>1002945</td>\n",
       "      <td>5</td>\n",
       "      <td>4</td>\n",
       "      <td>4</td>\n",
       "      <td>5</td>\n",
       "      <td>7</td>\n",
       "      <td>10</td>\n",
       "      <td>3</td>\n",
       "      <td>2</td>\n",
       "      <td>1</td>\n",
       "      <td>2</td>\n",
       "    </tr>\n",
       "    <tr>\n",
       "      <th>2</th>\n",
       "      <td>1015425</td>\n",
       "      <td>3</td>\n",
       "      <td>1</td>\n",
       "      <td>1</td>\n",
       "      <td>1</td>\n",
       "      <td>2</td>\n",
       "      <td>2</td>\n",
       "      <td>3</td>\n",
       "      <td>1</td>\n",
       "      <td>1</td>\n",
       "      <td>2</td>\n",
       "    </tr>\n",
       "    <tr>\n",
       "      <th>3</th>\n",
       "      <td>1016277</td>\n",
       "      <td>6</td>\n",
       "      <td>8</td>\n",
       "      <td>8</td>\n",
       "      <td>1</td>\n",
       "      <td>3</td>\n",
       "      <td>4</td>\n",
       "      <td>3</td>\n",
       "      <td>7</td>\n",
       "      <td>1</td>\n",
       "      <td>2</td>\n",
       "    </tr>\n",
       "    <tr>\n",
       "      <th>4</th>\n",
       "      <td>1017023</td>\n",
       "      <td>4</td>\n",
       "      <td>1</td>\n",
       "      <td>1</td>\n",
       "      <td>3</td>\n",
       "      <td>2</td>\n",
       "      <td>1</td>\n",
       "      <td>3</td>\n",
       "      <td>1</td>\n",
       "      <td>1</td>\n",
       "      <td>2</td>\n",
       "    </tr>\n",
       "  </tbody>\n",
       "</table>\n",
       "</div>"
      ],
      "text/plain": [
       "        0   1   2   3   4   5   6   7   8   9   10\n",
       "0  1000025   5   1   1   1   2   1   3   1   1   2\n",
       "1  1002945   5   4   4   5   7  10   3   2   1   2\n",
       "2  1015425   3   1   1   1   2   2   3   1   1   2\n",
       "3  1016277   6   8   8   1   3   4   3   7   1   2\n",
       "4  1017023   4   1   1   3   2   1   3   1   1   2"
      ]
     },
     "execution_count": 3,
     "metadata": {},
     "output_type": "execute_result"
    }
   ],
   "source": [
    "cancer_df.head()"
   ]
  },
  {
   "cell_type": "code",
   "execution_count": 4,
   "metadata": {},
   "outputs": [],
   "source": [
    "#Adding names to all of the columns\n",
    "cancer_df.rename(columns = {0: 'Sample code number', 1: 'Clump Thickness', 2: 'Uniformity of Cell Size'\n",
    "                            , 3: 'Uniformity of Cell Shape', 4: 'Marginal Adhesion', 5: 'Single Epithelial Cell Size'\n",
    "                            , 6: 'Bare Nuclei', 7: 'Bland Chromatin', 8: 'Normal Nucleoli', 9: 'Mitoses'\n",
    "                            , 10: 'Class'}, inplace = True)"
   ]
  },
  {
   "cell_type": "code",
   "execution_count": 5,
   "metadata": {},
   "outputs": [],
   "source": [
    "#Change values in class column as it would be easier to work with them as ones and zeros\n",
    "cancer_df['Class'] = cancer_df['Class'].map({2: 0, 4: 1})"
   ]
  },
  {
   "cell_type": "code",
   "execution_count": 6,
   "metadata": {},
   "outputs": [
    {
     "data": {
      "text/plain": [
       "Sample code number             0\n",
       "Clump Thickness                0\n",
       "Uniformity of Cell Size        0\n",
       "Uniformity of Cell Shape       0\n",
       "Marginal Adhesion              0\n",
       "Single Epithelial Cell Size    0\n",
       "Bare Nuclei                    0\n",
       "Bland Chromatin                0\n",
       "Normal Nucleoli                0\n",
       "Mitoses                        0\n",
       "Class                          0\n",
       "dtype: int64"
      ]
     },
     "execution_count": 6,
     "metadata": {},
     "output_type": "execute_result"
    }
   ],
   "source": [
    "#looking for null values\n",
    "cancer_df.isnull().sum()"
   ]
  },
  {
   "cell_type": "markdown",
   "metadata": {},
   "source": [
    "There aren't any null values or empty columns."
   ]
  },
  {
   "cell_type": "code",
   "execution_count": 7,
   "metadata": {},
   "outputs": [
    {
     "name": "stdout",
     "output_type": "stream",
     "text": [
      "<class 'pandas.core.frame.DataFrame'>\n",
      "RangeIndex: 699 entries, 0 to 698\n",
      "Data columns (total 11 columns):\n",
      " #   Column                       Non-Null Count  Dtype \n",
      "---  ------                       --------------  ----- \n",
      " 0   Sample code number           699 non-null    int64 \n",
      " 1   Clump Thickness              699 non-null    int64 \n",
      " 2   Uniformity of Cell Size      699 non-null    int64 \n",
      " 3   Uniformity of Cell Shape     699 non-null    int64 \n",
      " 4   Marginal Adhesion            699 non-null    int64 \n",
      " 5   Single Epithelial Cell Size  699 non-null    int64 \n",
      " 6   Bare Nuclei                  699 non-null    object\n",
      " 7   Bland Chromatin              699 non-null    int64 \n",
      " 8   Normal Nucleoli              699 non-null    int64 \n",
      " 9   Mitoses                      699 non-null    int64 \n",
      " 10  Class                        699 non-null    int64 \n",
      "dtypes: int64(10), object(1)\n",
      "memory usage: 60.2+ KB\n"
     ]
    }
   ],
   "source": [
    "cancer_df.info()"
   ]
  },
  {
   "cell_type": "code",
   "execution_count": 8,
   "metadata": {},
   "outputs": [],
   "source": [
    "cancer_df.drop(['Sample code number'],axis=1,inplace=True)"
   ]
  },
  {
   "cell_type": "markdown",
   "metadata": {},
   "source": [
    "<blockquote>\n",
    "\n",
    "All the columns are of type integer execpt for Bare Nuclei. I'm going to inspect that colunm and change the data type to int64. As the logistic regression model only accepts integers. The first column *Sample code number* which is the ID column I'll drop as it won't give us any information as to how to predict the class of breast cancer.\n",
    "\n",
    "</blockquote>\n"
   ]
  },
  {
   "cell_type": "code",
   "execution_count": 9,
   "metadata": {},
   "outputs": [
    {
     "data": {
      "text/plain": [
       "Clump Thickness                 0\n",
       "Uniformity of Cell Size         0\n",
       "Uniformity of Cell Shape        0\n",
       "Marginal Adhesion               0\n",
       "Single Epithelial Cell Size     0\n",
       "Bare Nuclei                    16\n",
       "Bland Chromatin                 0\n",
       "Normal Nucleoli                 0\n",
       "Mitoses                         0\n",
       "Class                           0\n",
       "dtype: int64"
      ]
     },
     "execution_count": 9,
     "metadata": {},
     "output_type": "execute_result"
    }
   ],
   "source": [
    "# Replace the '?'s with NaN\n",
    "cancer_df[\"Bare Nuclei\"].replace('?', np.nan, inplace = True)\n",
    "cancer_df.isnull().sum()"
   ]
  },
  {
   "cell_type": "markdown",
   "metadata": {},
   "source": [
    "<blockquote>\n",
    "    The data contains <b>\"?\"</b> in the Bare Nuclei column which will create a problem when we try and build a model as a logistic regression model can only be built with numeric data types. So I'll replace the question marks with <b>Nan</b> values and then fill them with the mode value.\n",
    "    </blockquote>"
   ]
  },
  {
   "cell_type": "code",
   "execution_count": 10,
   "metadata": {},
   "outputs": [],
   "source": [
    "cancer_df.fillna({\"Bare Nuclei\":cancer_df[\"Bare Nuclei\"].value_counts().index[0]}, inplace=True)"
   ]
  },
  {
   "cell_type": "code",
   "execution_count": 11,
   "metadata": {},
   "outputs": [
    {
     "data": {
      "text/plain": [
       "Clump Thickness                0\n",
       "Uniformity of Cell Size        0\n",
       "Uniformity of Cell Shape       0\n",
       "Marginal Adhesion              0\n",
       "Single Epithelial Cell Size    0\n",
       "Bare Nuclei                    0\n",
       "Bland Chromatin                0\n",
       "Normal Nucleoli                0\n",
       "Mitoses                        0\n",
       "Class                          0\n",
       "dtype: int64"
      ]
     },
     "execution_count": 11,
     "metadata": {},
     "output_type": "execute_result"
    }
   ],
   "source": [
    "cancer_df.isnull().sum()"
   ]
  },
  {
   "cell_type": "code",
   "execution_count": 12,
   "metadata": {},
   "outputs": [],
   "source": [
    "cancer_df = cancer_df.astype({\"Bare Nuclei\": int})"
   ]
  },
  {
   "cell_type": "markdown",
   "metadata": {},
   "source": [
    "<h2> Feature Selection </h2>\n"
   ]
  },
  {
   "cell_type": "markdown",
   "metadata": {},
   "source": [
    "<blockquote>\n",
    "            <b>Correlation and p-value</b> as part of my feature selection process I'll look at the correlation between the independant variables with the dependant variable. Then I examine whether or not that vlaue is statistically significant. Where p-value>0.005 means that the correlation between the target and dependant variable is not statistically significant. The higher the correlation the better it is to use to model. The lower the p-value the greater the statistical significance of that relationship.\n",
    "\n",
    "</blockquote>"
   ]
  },
  {
   "cell_type": "code",
   "execution_count": 13,
   "metadata": {},
   "outputs": [
    {
     "data": {
      "text/html": [
       "<div>\n",
       "<style scoped>\n",
       "    .dataframe tbody tr th:only-of-type {\n",
       "        vertical-align: middle;\n",
       "    }\n",
       "\n",
       "    .dataframe tbody tr th {\n",
       "        vertical-align: top;\n",
       "    }\n",
       "\n",
       "    .dataframe thead th {\n",
       "        text-align: right;\n",
       "    }\n",
       "</style>\n",
       "<table border=\"1\" class=\"dataframe\">\n",
       "  <thead>\n",
       "    <tr style=\"text-align: right;\">\n",
       "      <th></th>\n",
       "      <th>Correlation</th>\n",
       "      <th>P-Value</th>\n",
       "    </tr>\n",
       "  </thead>\n",
       "  <tbody>\n",
       "    <tr>\n",
       "      <th>Class</th>\n",
       "      <td>1.000000</td>\n",
       "      <td>0.000000e+00</td>\n",
       "    </tr>\n",
       "    <tr>\n",
       "      <th>Bare Nuclei</th>\n",
       "      <td>0.818968</td>\n",
       "      <td>2.775979e-170</td>\n",
       "    </tr>\n",
       "    <tr>\n",
       "      <th>Uniformity of Cell Shape</th>\n",
       "      <td>0.818934</td>\n",
       "      <td>2.945621e-170</td>\n",
       "    </tr>\n",
       "    <tr>\n",
       "      <th>Uniformity of Cell Size</th>\n",
       "      <td>0.817904</td>\n",
       "      <td>1.747924e-169</td>\n",
       "    </tr>\n",
       "    <tr>\n",
       "      <th>Bland Chromatin</th>\n",
       "      <td>0.756616</td>\n",
       "      <td>9.849140e-131</td>\n",
       "    </tr>\n",
       "    <tr>\n",
       "      <th>Clump Thickness</th>\n",
       "      <td>0.716001</td>\n",
       "      <td>6.835566e-111</td>\n",
       "    </tr>\n",
       "    <tr>\n",
       "      <th>Normal Nucleoli</th>\n",
       "      <td>0.712244</td>\n",
       "      <td>3.124155e-109</td>\n",
       "    </tr>\n",
       "    <tr>\n",
       "      <th>Marginal Adhesion</th>\n",
       "      <td>0.696800</td>\n",
       "      <td>1.109757e-102</td>\n",
       "    </tr>\n",
       "    <tr>\n",
       "      <th>Single Epithelial Cell Size</th>\n",
       "      <td>0.682785</td>\n",
       "      <td>4.346160e-97</td>\n",
       "    </tr>\n",
       "    <tr>\n",
       "      <th>Mitoses</th>\n",
       "      <td>0.423170</td>\n",
       "      <td>9.682098e-32</td>\n",
       "    </tr>\n",
       "  </tbody>\n",
       "</table>\n",
       "</div>"
      ],
      "text/plain": [
       "                             Correlation        P-Value\n",
       "Class                           1.000000   0.000000e+00\n",
       "Bare Nuclei                     0.818968  2.775979e-170\n",
       "Uniformity of Cell Shape        0.818934  2.945621e-170\n",
       "Uniformity of Cell Size         0.817904  1.747924e-169\n",
       "Bland Chromatin                 0.756616  9.849140e-131\n",
       "Clump Thickness                 0.716001  6.835566e-111\n",
       "Normal Nucleoli                 0.712244  3.124155e-109\n",
       "Marginal Adhesion               0.696800  1.109757e-102\n",
       "Single Epithelial Cell Size     0.682785   4.346160e-97\n",
       "Mitoses                         0.423170   9.682098e-32"
      ]
     },
     "execution_count": 13,
     "metadata": {},
     "output_type": "execute_result"
    }
   ],
   "source": [
    "pd.DataFrame([stats.pearsonr(cancer_df[x], cancer_df['Class']) for x in cancer_df.columns]\n",
    "             , columns=['Correlation', 'P-Value'], index=cancer_df.columns).sort_values(by='P-Value', ascending=True)"
   ]
  },
  {
   "cell_type": "markdown",
   "metadata": {},
   "source": [
    "<blockquote>\n",
    "    I have chosen 0.6 as my correlation threshold. As from 6 we have moderate for very high correlation and I think that would be the best to use. Setting the threshold any lower might make me end up including values that don't add any value to the model and create noise. So because of that I will not include Mitoses as one of the features in my model because the correlation with Class is too low. All the other values okay to consider modelling with.\n",
    "\n",
    "</blockquote>"
   ]
  },
  {
   "cell_type": "markdown",
   "metadata": {},
   "source": [
    "<blockquote>\n",
    "            But before I use all these features I need to check for <b>Multicollinearities</b> and remove them so that I don't end up overfitting as a result of them. For that I will be using the variance inflation factor. Where any value over 5 means that theres an interdependance between the independant variables and they therefore contain multicollinearities.\n",
    "\n",
    "</blockquote>"
   ]
  },
  {
   "cell_type": "code",
   "execution_count": 14,
   "metadata": {},
   "outputs": [
    {
     "data": {
      "text/html": [
       "<div>\n",
       "<style scoped>\n",
       "    .dataframe tbody tr th:only-of-type {\n",
       "        vertical-align: middle;\n",
       "    }\n",
       "\n",
       "    .dataframe tbody tr th {\n",
       "        vertical-align: top;\n",
       "    }\n",
       "\n",
       "    .dataframe thead th {\n",
       "        text-align: right;\n",
       "    }\n",
       "</style>\n",
       "<table border=\"1\" class=\"dataframe\">\n",
       "  <thead>\n",
       "    <tr style=\"text-align: right;\">\n",
       "      <th></th>\n",
       "      <th>variables</th>\n",
       "      <th>VIF</th>\n",
       "    </tr>\n",
       "  </thead>\n",
       "  <tbody>\n",
       "    <tr>\n",
       "      <th>0</th>\n",
       "      <td>Clump Thickness</td>\n",
       "      <td>5.120359</td>\n",
       "    </tr>\n",
       "    <tr>\n",
       "      <th>1</th>\n",
       "      <td>Uniformity of Cell Size</td>\n",
       "      <td>13.945552</td>\n",
       "    </tr>\n",
       "    <tr>\n",
       "      <th>2</th>\n",
       "      <td>Uniformity of Cell Shape</td>\n",
       "      <td>14.070698</td>\n",
       "    </tr>\n",
       "    <tr>\n",
       "      <th>3</th>\n",
       "      <td>Marginal Adhesion</td>\n",
       "      <td>4.756558</td>\n",
       "    </tr>\n",
       "    <tr>\n",
       "      <th>4</th>\n",
       "      <td>Single Epithelial Cell Size</td>\n",
       "      <td>6.359212</td>\n",
       "    </tr>\n",
       "    <tr>\n",
       "      <th>5</th>\n",
       "      <td>Bare Nuclei</td>\n",
       "      <td>4.804216</td>\n",
       "    </tr>\n",
       "    <tr>\n",
       "      <th>6</th>\n",
       "      <td>Bland Chromatin</td>\n",
       "      <td>7.495019</td>\n",
       "    </tr>\n",
       "    <tr>\n",
       "      <th>7</th>\n",
       "      <td>Normal Nucleoli</td>\n",
       "      <td>4.499257</td>\n",
       "    </tr>\n",
       "  </tbody>\n",
       "</table>\n",
       "</div>"
      ],
      "text/plain": [
       "                     variables        VIF\n",
       "0              Clump Thickness   5.120359\n",
       "1      Uniformity of Cell Size  13.945552\n",
       "2     Uniformity of Cell Shape  14.070698\n",
       "3            Marginal Adhesion   4.756558\n",
       "4  Single Epithelial Cell Size   6.359212\n",
       "5                  Bare Nuclei   4.804216\n",
       "6              Bland Chromatin   7.495019\n",
       "7              Normal Nucleoli   4.499257"
      ]
     },
     "execution_count": 14,
     "metadata": {},
     "output_type": "execute_result"
    }
   ],
   "source": [
    "from statsmodels.stats.outliers_influence import variance_inflation_factor\n",
    "# Calculating VIF\n",
    "vif = pd.DataFrame()\n",
    "vif[\"variables\"] = cancer_df.columns[:-2]\n",
    "vif[\"VIF\"] = [variance_inflation_factor(cancer_df[cancer_df.columns[:-2]].values, i) \n",
    "              for i in range(cancer_df[cancer_df.columns[:-2]].shape[1])]\n",
    "\n",
    "vif"
   ]
  },
  {
   "cell_type": "markdown",
   "metadata": {},
   "source": [
    "<blockquote>\n",
    "    From looking at this we can see that clump Clump Thickness, Uniformity of Cell Size, Uniformity of Cell Shape, Single Epithelial Cell Size and Bland Chromatin all have multicollinearities. I dropped all the attributes one by one starting from highest to lowest. Removing all of them all at once would not be a good idea as when you remove in attribute after I drop one attribute it might take away the multicollinearity in another. This way I maintain more attributes and am able to feed the model more information to the model.\n",
    "    </blockquote>"
   ]
  },
  {
   "cell_type": "code",
   "execution_count": 15,
   "metadata": {},
   "outputs": [],
   "source": [
    "cancer_df.drop(['Uniformity of Cell Size', 'Uniformity of Cell Shape','Bland Chromatin','Single Epithelial Cell Size'],axis=1, inplace=True)"
   ]
  },
  {
   "cell_type": "code",
   "execution_count": 16,
   "metadata": {},
   "outputs": [
    {
     "data": {
      "text/html": [
       "<div>\n",
       "<style scoped>\n",
       "    .dataframe tbody tr th:only-of-type {\n",
       "        vertical-align: middle;\n",
       "    }\n",
       "\n",
       "    .dataframe tbody tr th {\n",
       "        vertical-align: top;\n",
       "    }\n",
       "\n",
       "    .dataframe thead th {\n",
       "        text-align: right;\n",
       "    }\n",
       "</style>\n",
       "<table border=\"1\" class=\"dataframe\">\n",
       "  <thead>\n",
       "    <tr style=\"text-align: right;\">\n",
       "      <th></th>\n",
       "      <th>variables</th>\n",
       "      <th>VIF</th>\n",
       "    </tr>\n",
       "  </thead>\n",
       "  <tbody>\n",
       "    <tr>\n",
       "      <th>0</th>\n",
       "      <td>Clump Thickness</td>\n",
       "      <td>3.709679</td>\n",
       "    </tr>\n",
       "    <tr>\n",
       "      <th>1</th>\n",
       "      <td>Marginal Adhesion</td>\n",
       "      <td>4.015137</td>\n",
       "    </tr>\n",
       "    <tr>\n",
       "      <th>2</th>\n",
       "      <td>Bare Nuclei</td>\n",
       "      <td>4.280747</td>\n",
       "    </tr>\n",
       "    <tr>\n",
       "      <th>3</th>\n",
       "      <td>Normal Nucleoli</td>\n",
       "      <td>3.471669</td>\n",
       "    </tr>\n",
       "  </tbody>\n",
       "</table>\n",
       "</div>"
      ],
      "text/plain": [
       "           variables       VIF\n",
       "0    Clump Thickness  3.709679\n",
       "1  Marginal Adhesion  4.015137\n",
       "2        Bare Nuclei  4.280747\n",
       "3    Normal Nucleoli  3.471669"
      ]
     },
     "execution_count": 16,
     "metadata": {},
     "output_type": "execute_result"
    }
   ],
   "source": [
    "from statsmodels.stats.outliers_influence import variance_inflation_factor\n",
    "# Calculating VIF\n",
    "vif = pd.DataFrame()\n",
    "vif[\"variables\"] = cancer_df.columns[:-2]\n",
    "vif[\"VIF\"] = [variance_inflation_factor(cancer_df[cancer_df.columns[:-2]].values, i) \n",
    "              for i in range(cancer_df[cancer_df.columns[:-2]].shape[1])]\n",
    "\n",
    "vif"
   ]
  },
  {
   "cell_type": "markdown",
   "metadata": {},
   "source": [
    "<blockquote>\n",
    "    After removing Uniformity of Cell Size, Uniformity of Cell Shape, Bland Chromatin, Single Epithelial Cell Size the value of Clump thickness has dropped from 5.120359 to 3.709679. So that along with the remaining values in the above dataframe is what I will use to model. \n",
    "    </blockquote>"
   ]
  },
  {
   "cell_type": "markdown",
   "metadata": {},
   "source": [
    "<h1> Splitting Data </h1>"
   ]
  },
  {
   "cell_type": "code",
   "execution_count": 17,
   "metadata": {},
   "outputs": [],
   "source": [
    "x = cancer_df[['Marginal Adhesion','Bare Nuclei','Normal Nucleoli','Clump Thickness']]\n",
    "y = cancer_df['Class']"
   ]
  },
  {
   "cell_type": "code",
   "execution_count": 18,
   "metadata": {},
   "outputs": [],
   "source": [
    "x_train,x_test,y_train,y_test = train_test_split(x,y,test_size=0.35,random_state=1)"
   ]
  },
  {
   "cell_type": "markdown",
   "metadata": {},
   "source": [
    "<h1> Modelling </h1>"
   ]
  },
  {
   "cell_type": "code",
   "execution_count": 19,
   "metadata": {},
   "outputs": [],
   "source": [
    "LogReg = LogisticRegression(random_state=1, solver='lbfgs').fit(x_train, y_train)"
   ]
  },
  {
   "cell_type": "code",
   "execution_count": 20,
   "metadata": {},
   "outputs": [
    {
     "name": "stdout",
     "output_type": "stream",
     "text": [
      "Test acurracy 0.9551020408163265\n",
      "Train acurracy 0.9669603524229075\n"
     ]
    }
   ],
   "source": [
    "test_pred = LogReg.predict(x_test)\n",
    "train_pred = LogReg.predict(x_train)\n",
    "\n",
    "print(\"Test acurracy {}\".format(accuracy_score(y_test,test_pred)))\n",
    "print(\"Train acurracy {}\".format(accuracy_score(y_train,train_pred)))"
   ]
  },
  {
   "cell_type": "markdown",
   "metadata": {},
   "source": [
    "<blockquote>\n",
    "The model has an Test acurracy 0.9551020408163265 and Train acurracy 0.9669603524229075. This means that it has a very high accuracy and is performing really well. There are no signs of overfitting as the test and train accuracy scores don't have a very wide variance. There's no signs of underfitting as the train accuracy is higher than the test accuracy which is expected because the this is the data that the model learnt on and has seen before so it should be better at predicting that. \n",
    "    </blockquote>"
   ]
  },
  {
   "cell_type": "markdown",
   "metadata": {},
   "source": [
    "   <h2>Test Confusion Matrix</h2>\n"
   ]
  },
  {
   "cell_type": "code",
   "execution_count": 21,
   "metadata": {},
   "outputs": [
    {
     "data": {
      "text/plain": [
       "Text(0.5, 257.44, 'Predicted label')"
      ]
     },
     "execution_count": 21,
     "metadata": {},
     "output_type": "execute_result"
    },
    {
     "data": {
      "image/png": "[encoded data removed]",
      "text/plain": [
       "<Figure size 432x288 with 2 Axes>"
      ]
     },
     "metadata": {},
     "output_type": "display_data"
    }
   ],
   "source": [
    "class_names=[0,1] # name  of classes\n",
    "fig, ax = plt.subplots()\n",
    "tick_marks = np.arange(len(class_names))\n",
    "plt.xticks(tick_marks, class_names,va=\"center\")\n",
    "plt.yticks(tick_marks, class_names,va=\"center\")\n",
    "# create heatmap\n",
    "sns.heatmap(pd.DataFrame(confusion_matrix(y_test, test_pred)), annot=True, cmap=\"YlGnBu\" ,fmt='g')\n",
    "ax.xaxis.set_label_position(\"top\")\n",
    "ax.set(yticks=[0, 2], \n",
    "       xticks=[0, 1], \n",
    "       yticklabels=class_names, \n",
    "       xticklabels=class_names)\n",
    "plt.tight_layout()\n",
    "plt.title('Confusion matrix', y=1.1)\n",
    "plt.ylabel('Actual label')\n",
    "plt.xlabel('Predicted label')"
   ]
  },
  {
   "cell_type": "markdown",
   "metadata": {},
   "source": [
    "<blockquote>\n",
    "We have <b>161 True Positives</b> and there are <b>3 False Positive</b>. We have <b>8 False Negatives</b>, and there are <b>73  True Negatives</b>. Overall the model is classifying more values correctly than incorrectly, therefore it is performing well.\n",
    "</blockquote>"
   ]
  },
  {
   "cell_type": "markdown",
   "metadata": {},
   "source": [
    " <h2>Train Confusion Matrix</h2>\n"
   ]
  },
  {
   "cell_type": "code",
   "execution_count": 22,
   "metadata": {},
   "outputs": [
    {
     "data": {
      "image/png": "[encoded data removed]",
      "text/plain": [
       "<Figure size 432x288 with 2 Axes>"
      ]
     },
     "metadata": {},
     "output_type": "display_data"
    }
   ],
   "source": [
    "class_names=[0,1] # name  of classes\n",
    "fig, ax = plt.subplots()\n",
    "tick_marks = np.arange(len(class_names))\n",
    "plt.xticks(tick_marks, class_names,va=\"center\")\n",
    "plt.yticks(tick_marks, class_names,va=\"center\")\n",
    "# create heatmap\n",
    "sns.heatmap(pd.DataFrame(confusion_matrix(y_train, train_pred)), annot=True, cmap=\"YlGnBu\" ,fmt='g')\n",
    "ax.xaxis.set_label_position(\"top\")\n",
    "ax.set(yticks=[0, 2], \n",
    "       xticks=[0, 1], \n",
    "       yticklabels=class_names, \n",
    "       xticklabels=class_names)\n",
    "plt.tight_layout()\n",
    "plt.title('Confusion matrix', y=1.1)\n",
    "plt.ylabel('Actual label')\n",
    "plt.xlabel('Predicted label')\n",
    "plt.show()"
   ]
  },
  {
   "cell_type": "markdown",
   "metadata": {},
   "source": [
    "<blockquote>\n",
    "We have <b>287 True Positives</b> and there are <b>7 False Positives</b>. We have <b>8 False Negatives</b>, and there are <b>152 True Negative</b>. Overall the model is classifying more values correctly than incorrectly, therefore it is performing well.\n",
    "</blockquote>"
   ]
  },
  {
   "cell_type": "markdown",
   "metadata": {},
   "source": [
    "<h2>Test Classification Report</h2>\n"
   ]
  },
  {
   "cell_type": "code",
   "execution_count": 23,
   "metadata": {},
   "outputs": [
    {
     "name": "stdout",
     "output_type": "stream",
     "text": [
      "              precision    recall  f1-score   support\n",
      "\n",
      "      Benign       0.95      0.98      0.97       164\n",
      "   Malignant       0.96      0.90      0.93        81\n",
      "\n",
      "    accuracy                           0.96       245\n",
      "   macro avg       0.96      0.94      0.95       245\n",
      "weighted avg       0.96      0.96      0.95       245\n",
      "\n"
     ]
    }
   ],
   "source": [
    "print(classification_report(y_test, test_pred, target_names=['Benign', 'Malignant']))"
   ]
  },
  {
   "cell_type": "markdown",
   "metadata": {},
   "source": [
    "<blockquote>\n",
    "\n",
    "It has a precision score 0.95 for benign tumors meaning that 95% of the predicted cases were correct. It has a precision score 0.96 for malignant tumors meaning that 96% of the predicted cases were correct. The recall score is 0.97 for benign tumors meaning that 97% of the observed cases were correctly predicted.The recall score is 0.90 for malignant tumors meaning that 90% of the observed cases were correctly predicted. We have an f1 score of 0.97 for beninging tumors and 0.93 for malignant tumors. Overall looking at these scores we can see that the model is performing very well. I have high precision and high recall meaning that the model will perform well and correctly classify the class of cancer. So where people have people have benign or malignant cancer types the model will actually classify them correctly. \n",
    "\n",
    "</blockquote>"
   ]
  },
  {
   "cell_type": "markdown",
   "metadata": {},
   "source": [
    "<h2>Train Classification Report</h2>\n"
   ]
  },
  {
   "cell_type": "code",
   "execution_count": 24,
   "metadata": {},
   "outputs": [
    {
     "name": "stdout",
     "output_type": "stream",
     "text": [
      "              precision    recall  f1-score   support\n",
      "\n",
      "      Benign       0.97      0.98      0.97       294\n",
      "   Malignant       0.96      0.95      0.95       160\n",
      "\n",
      "    accuracy                           0.97       454\n",
      "   macro avg       0.96      0.96      0.96       454\n",
      "weighted avg       0.97      0.97      0.97       454\n",
      "\n"
     ]
    }
   ],
   "source": [
    "print(classification_report(y_train, train_pred, target_names=['Benign', 'Malignant']))"
   ]
  },
  {
   "cell_type": "markdown",
   "metadata": {},
   "source": [
    "<blockquote>\n",
    "\n",
    "It has a precision score 0.97 for benign tumors meaning that 97% of the predicted cases were correct. It has a precision score of 0.96 for malignant tumors meaning that 96% of the predicted cases were correct. The recall score is 0.98 for benign tumors meaning that 98% of the observed cases were correctly predicted.The recall score is 0.95 for malignant tumors meaning that 95% of the observed cases were correctly predicted. We have an f1 score of 0.97 for beninging tumors and 0.95 for malignant tumors. Overall looking at these scores we can see that the model is performing very well. I have high precision and high recall meaning that the model will perform well and correctly classify the class of cancer. So where people have people have benign or malignant cancer types the model will actually classify them correctly. \n",
    "\n",
    "</blockquote>"
   ]
  },
  {
   "cell_type": "markdown",
   "metadata": {},
   "source": [
    "<h2>Test ROC Curve</h2>\n"
   ]
  },
  {
   "cell_type": "code",
   "execution_count": 25,
   "metadata": {},
   "outputs": [
    {
     "data": {
      "image/png": "[encoded data removed]",
      "text/plain": [
       "<Figure size 432x288 with 1 Axes>"
      ]
     },
     "metadata": {},
     "output_type": "display_data"
    }
   ],
   "source": [
    "logit_roc_auc = roc_auc_score(y_test,test_pred)\n",
    "fpr, tpr, thresholds = roc_curve(y_test, LogReg.predict_proba(x_test)[:,1])\n",
    "plt.figure()\n",
    "plt.plot(fpr, tpr, label='Logistic Regression (area = %0.2f)' % logit_roc_auc)\n",
    "plt.plot([0, 1], [0, 1],'r--')\n",
    "plt.xlim([0.0, 1.0])\n",
    "plt.ylim([0.0, 1.05])\n",
    "plt.xlabel('False Positive Rate')\n",
    "plt.ylabel('True Positive Rate')\n",
    "plt.title('Receiver operating characteristic')\n",
    "plt.legend(loc=\"lower right\")\n",
    "plt.show()"
   ]
  },
  {
   "cell_type": "markdown",
   "metadata": {},
   "source": [
    "<blockquote>\n",
    "    Looking at the ROC curve and the area = 0.94 under the ROC curve we can see that the model is performing very well.\n",
    "\n",
    "</blockquote>"
   ]
  },
  {
   "cell_type": "markdown",
   "metadata": {},
   "source": [
    "<h2>Train ROC Curve</h2>\n"
   ]
  },
  {
   "cell_type": "code",
   "execution_count": 26,
   "metadata": {},
   "outputs": [
    {
     "data": {
      "image/png": "[encoded data removed]",
      "text/plain": [
       "<Figure size 432x288 with 1 Axes>"
      ]
     },
     "metadata": {},
     "output_type": "display_data"
    }
   ],
   "source": [
    "logit_roc_auc = roc_auc_score(y_train, train_pred)\n",
    "fpr, tpr, thresholds = roc_curve(y_train, LogReg.predict_proba(x_train)[:,1])\n",
    "plt.figure()\n",
    "plt.plot(fpr, tpr, label='Logistic Regression (area = %0.2f)' % logit_roc_auc)\n",
    "plt.plot([0, 1], [0, 1],'r--')\n",
    "plt.xlim([0.0, 1.0])\n",
    "plt.ylim([0.0, 1.05])\n",
    "plt.xlabel('False Positive Rate')\n",
    "plt.ylabel('True Positive Rate')\n",
    "plt.title('Receiver operating characteristic')\n",
    "plt.legend(loc=\"lower right\")\n",
    "#plt.savefig('Log_ROC')\n",
    "plt.show()"
   ]
  },
  {
   "cell_type": "markdown",
   "metadata": {},
   "source": [
    "<blockquote>\n",
    "    Looking at the ROC curve and the area = 0.96 under the ROC curve we can see that the model is performing very well. It makes sense for this score to be higher as this is the data the model has seen before and was trained on. So it would predict it more accura\n",
    "\n",
    "</blockquote>"
   ]
  },
  {
   "cell_type": "markdown",
   "metadata": {},
   "source": [
    "<h1>Overdispersion</h1>\n"
   ]
  },
  {
   "cell_type": "markdown",
   "metadata": {},
   "source": [
    "<blockquote>\n",
    "    Overdispersion is the presence of greater variability (statistical dispersion) in a data set than would be expected based on a given statistical model. When the variance is greater than the mean we can say that there is overdispersion.\n",
    "    </blockquote>"
   ]
  },
  {
   "cell_type": "markdown",
   "metadata": {},
   "source": [
    "<h2>Overdispersion Test Data</h2>\n"
   ]
  },
  {
   "cell_type": "code",
   "execution_count": 27,
   "metadata": {},
   "outputs": [
    {
     "name": "stdout",
     "output_type": "stream",
     "text": [
      "Variance 0\n"
     ]
    }
   ],
   "source": [
    "print(\"Variance % s\" %(statistics.variance(test_pred)))"
   ]
  },
  {
   "cell_type": "code",
   "execution_count": 28,
   "metadata": {},
   "outputs": [
    {
     "name": "stdout",
     "output_type": "stream",
     "text": [
      "Mean 0\n"
     ]
    }
   ],
   "source": [
    "print(\"Mean % s\" %(statistics.mean(test_pred)))"
   ]
  },
  {
   "cell_type": "markdown",
   "metadata": {},
   "source": [
    "<blockquote>\n",
    "In this case there is no overdispersion as mean = variance. Meaning that the model is displaying the amount of variance expected.\n",
    "</blockquote>"
   ]
  },
  {
   "cell_type": "markdown",
   "metadata": {},
   "source": [
    "<h2>Overdispersion Train Data</h2>\n"
   ]
  },
  {
   "cell_type": "code",
   "execution_count": 29,
   "metadata": {},
   "outputs": [
    {
     "name": "stdout",
     "output_type": "stream",
     "text": [
      "Variance 0\n"
     ]
    }
   ],
   "source": [
    "print(\"Variance % s\" %(statistics.variance(train_pred)))"
   ]
  },
  {
   "cell_type": "code",
   "execution_count": 30,
   "metadata": {},
   "outputs": [
    {
     "name": "stdout",
     "output_type": "stream",
     "text": [
      "Mean 0\n"
     ]
    }
   ],
   "source": [
    "print(\"Mean % s\" %(statistics.mean(train_pred)))"
   ]
  },
  {
   "cell_type": "markdown",
   "metadata": {},
   "source": [
    "<blockquote>\n",
    "In this case there is no overdispersion as mean = variance. Meaning that the model is displaying the amount of variance expected.\n",
    "</blockquote>"
   ]
  }
 ],
 "metadata": {
  "kernelspec": {
   "display_name": "Python 3",
   "language": "python",
   "name": "python3"
  },
  "language_info": {
   "codemirror_mode": {
    "name": "ipython",
    "version": 3
   },
   "file_extension": ".py",
   "mimetype": "text/x-python",
   "name": "python",
   "nbconvert_exporter": "python",
   "pygments_lexer": "ipython3",
   "version": "3.8.5"
  }
 },
 "nbformat": 4,
 "nbformat_minor": 4
}
