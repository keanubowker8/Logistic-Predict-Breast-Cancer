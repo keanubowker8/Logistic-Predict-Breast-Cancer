{
 "cells": [
  {
   "cell_type": "markdown",
   "metadata": {},
   "source": [
    "<h1> Objective </h1>\n",
    "<blockquote>\n",
    "    \n",
    "Predict the class of breast cancer (malignant or ‘bad’ versus benign or ‘good’) from the features of images taken from breast samples.\n",
    "    \n",
    "</blockquote>"
   ]
  },
  {
   "cell_type": "code",
   "execution_count": null,
   "metadata": {},
   "outputs": [],
   "source": [
    "import pandas as pd\n",
    "import numpy as np\n",
    "import matplotlib.pyplot as plt\n",
    "import seaborn as sns\n",
    "from sklearn.model_selection import train_test_split\n",
    "from sklearn.linear_model import LogisticRegression\n",
    "from sklearn import metrics\n",
    "from sklearn.metrics import accuracy_score, classification_report, confusion_matrix, roc_auc_score\n",
    ", roc_curve, accuracy_score\n",
    "from sklearn.metrics import classification_report\n",
    "from sklearn.metrics import confusion_matrix\n",
    "sns.set()"
   ]
  },
  {
   "cell_type": "markdown",
   "metadata": {},
   "source": [
    "<h2> Loading in dataset </h2>\n"
   ]
  },
  {
   "cell_type": "code",
   "execution_count": null,
   "metadata": {},
   "outputs": [],
   "source": [
    "cancer_df =  pd.read_csv('cancer.data', sep=\",\")"
   ]
  },
  {
   "cell_type": "markdown",
   "metadata": {},
   "source": [
    "<h2> Examining the dataset </h2>\n"
   ]
  },
  {
   "cell_type": "code",
   "execution_count": null,
   "metadata": {},
   "outputs": [],
   "source": [
    "cancer_df.head()"
   ]
  },
  {
   "cell_type": "code",
   "execution_count": null,
   "metadata": {},
   "outputs": [],
   "source": [
    "cancer_df.isnull().sum()"
   ]
  },
  {
   "cell_type": "markdown",
   "metadata": {},
   "source": [
    "There aren't any null values or empty columns."
   ]
  },
  {
   "cell_type": "code",
   "execution_count": null,
   "metadata": {},
   "outputs": [],
   "source": [
    "cancer_df.info()"
   ]
  },
  {
   "cell_type": "code",
   "execution_count": null,
   "metadata": {},
   "outputs": [],
   "source": [
    "cancer_df.drop(['1000025'],axis=1,inplace=True)"
   ]
  },
  {
   "cell_type": "markdown",
   "metadata": {},
   "source": [
    "<blockquote>\n",
    "\n",
    "All the columns are of type integer execpt for 1.3. I'll have to change that later on to int so that I can use it to create a model. The first column *1000025* which is the ID column I'll drop as it won't give us any information as to how to predict the class of breast cancer.\n",
    "\n",
    "</blockquote>\n"
   ]
  },
  {
   "cell_type": "code",
   "execution_count": null,
   "metadata": {},
   "outputs": [],
   "source": [
    "# Replace the '?'s with NaN\n",
    "cancer_df = cancer_df.replace('?', np.nan)\n",
    "\n",
    "# Inspect the missing values again\n",
    "# ... YOUR CODE FOR TASK 3 ...\n",
    "cancer_df.isnull().sum()"
   ]
  },
  {
   "cell_type": "markdown",
   "metadata": {},
   "source": [
    "<blockquote>\n",
    "    The data contains <b>\"?\"</b> in the 1.3 column which will create a problem when we try and build a model as a logistic regression model can only be built with numeric data types. So I'll replace the question marks with <b>Nan</b> values and then fill them with the mode value.\n",
    "    </blockquote>"
   ]
  },
  {
   "cell_type": "code",
   "execution_count": null,
   "metadata": {},
   "outputs": [],
   "source": [
    "cancer_df.fillna({\"1.3\":cancer_df[\"1.3\"].value_counts().index[0]}, inplace=True)"
   ]
  },
  {
   "cell_type": "code",
   "execution_count": null,
   "metadata": {},
   "outputs": [],
   "source": [
    "cancer_df.isnull().sum()"
   ]
  },
  {
   "cell_type": "code",
   "execution_count": null,
   "metadata": {},
   "outputs": [],
   "source": [
    "cancer_df = cancer_df.astype({\"1.3\": int})"
   ]
  },
  {
   "cell_type": "code",
   "execution_count": null,
   "metadata": {},
   "outputs": [],
   "source": [
    "plt.figure(figsize=(10,6))\n",
    "sns.kdeplot(cancer_df[cancer_df['2.1'] == 2]['5'], shade=True,label=\"Benign\")\n",
    "sns.kdeplot(cancer_df[cancer_df['2.1'] == 4]['5'], shade=True,label=\"Malignant\")\n",
    "plt.title('Type of Breast Cancer based on Clump Thickness')\n",
    "plt.ylabel('Total per Type')\n",
    "plt.xlabel('Clump Thickness')\n",
    "plt.legend(['Benign','Malignant'])"
   ]
  },
  {
   "cell_type": "markdown",
   "metadata": {},
   "source": [
    "<blockquote>\n",
    "\n",
    "Looking at this this graph we can see that when clump thickness>5 it is highly likely that it is malignant. As the clump thickness increases it is even more likely that it will be Malignant. When clump thickness < 5 it is more likely that the tumor is benign. \n",
    "\n",
    "</blockquote>\n"
   ]
  },
  {
   "cell_type": "code",
   "execution_count": null,
   "metadata": {},
   "outputs": [],
   "source": [
    "plt.figure(figsize=(10,6))\n",
    "sns.kdeplot(cancer_df[cancer_df['2.1'] == 2]['1'], shade=True,label=\"Benign\")\n",
    "sns.kdeplot(cancer_df[cancer_df['2.1'] == 4]['1'], shade=True,label=\"Malignant\")\n",
    "plt.title('Type of Breast Cancer based on Uniformity of Cell Size')\n",
    "plt.ylabel('Total per Type')\n",
    "plt.xlabel('Uniformity of Cell Size')\n",
    "plt.legend(['Benign','Malignant'])"
   ]
  },
  {
   "cell_type": "markdown",
   "metadata": {},
   "source": [
    "<bLockquote>\n",
    "    This would be a good feature to use for modelling. Looking at this graph we can see that it would be a good classifier for \n",
    "    Bening or Malignant tumors. With Uniformity of Cell Size above 3 most likely being Malignant and anything below that being Benign.\n",
    "</blockquote>"
   ]
  },
  {
   "cell_type": "code",
   "execution_count": null,
   "metadata": {},
   "outputs": [],
   "source": [
    "plt.figure(figsize=(10,6))\n",
    "sns.kdeplot(cancer_df[cancer_df['2.1'] == 2]['1.1'], shade=True,label=\"Benign\")\n",
    "sns.kdeplot(cancer_df[cancer_df['2.1'] == 4]['1.1'], shade=True,label=\"Malignant\")\n",
    "plt.title('Type of Breast Cancer based on Uniformity of Cell Shape')\n",
    "plt.ylabel('Total per Type')\n",
    "plt.xlabel('Uniformity of Cell Shape')\n",
    "plt.legend(['Benign','Malignant'])"
   ]
  },
  {
   "cell_type": "markdown",
   "metadata": {},
   "source": [
    "<bLockquote>\n",
    "    This would be a good feature to use for modelling. Looking at this graph we can see that it would be a good classifier for \n",
    "    Bening or Malignant tumors. With Uniformity of Cell Shape above 3 most likely being Malignant and anything below that being Benign.\n",
    "</blockquote>"
   ]
  },
  {
   "cell_type": "code",
   "execution_count": null,
   "metadata": {},
   "outputs": [],
   "source": [
    "plt.figure(figsize=(10,6))\n",
    "sns.kdeplot(cancer_df[cancer_df['2.1'] == 2]['1.2'], shade=True,label=\"Benign\")\n",
    "sns.kdeplot(cancer_df[cancer_df['2.1'] == 4]['1.2'], shade=True,label=\"Malignant\")\n",
    "plt.title('Type of Breast Cancer based on Marginal Adhesion')\n",
    "plt.ylabel('Total per Type')\n",
    "plt.xlabel('Marginal Adhesion')\n",
    "plt.legend(['Benign','Malignant'])"
   ]
  },
  {
   "cell_type": "markdown",
   "metadata": {},
   "source": [
    "<bLockquote>\n",
    "    This would be a good feature to use for modelling. Looking at this graph we can see that it would be a good classifier for \n",
    "    Bening or Malignant tumors. With Marginal Adhesion above 3 most likely being Malignant and anything below that being Benign.\n",
    "</blockquote>"
   ]
  },
  {
   "cell_type": "code",
   "execution_count": null,
   "metadata": {},
   "outputs": [],
   "source": [
    "plt.figure(figsize=(10,6))\n",
    "sns.kdeplot(cancer_df[cancer_df['2.1'] == 2]['2'], shade=True,label=\"Benign\")\n",
    "sns.kdeplot(cancer_df[cancer_df['2.1'] == 4]['2'], shade=True,label=\"Malignant\")\n",
    "plt.title('Type of Breast Cancer based on Single Epithelial Cell Size')\n",
    "plt.ylabel('Total per Type')\n",
    "plt.xlabel('Single Epithelial Cell Size')\n",
    "plt.legend(['Benign','Malignant'])"
   ]
  },
  {
   "cell_type": "markdown",
   "metadata": {},
   "source": [
    "<bLockquote>\n",
    "    This would be a good feature to use for modelling. Looking at this graph we can see that it would be a good classifier for \n",
    "    Bening or Malignant tumors. With Single Epithelial Cell Size above 3 most likely being Malignant and anything below that being Benign.\n",
    "</blockquote>"
   ]
  },
  {
   "cell_type": "code",
   "execution_count": null,
   "metadata": {},
   "outputs": [],
   "source": [
    "plt.figure(figsize=(10,6))\n",
    "sns.kdeplot(cancer_df[cancer_df['2.1'] == 2]['1.3'], shade=True,label=\"Benign\")\n",
    "sns.kdeplot(cancer_df[cancer_df['2.1'] == 4]['1.3'], shade=True,label=\"Malignant\")\n",
    "plt.title('Type of Breast Cancer based on Bare Nuclei')\n",
    "plt.ylabel('Total per Type')\n",
    "plt.xlabel('Bare Nuclei')\n",
    "plt.legend(['Benign','Malignant'])"
   ]
  },
  {
   "cell_type": "markdown",
   "metadata": {},
   "source": [
    "<bLockquote>\n",
    "    This would be a good feature to use for modelling. Looking at this graph we can see that it would be a good classifier for \n",
    "    Bening or Malignant tumors. With Bare Nuclei above 3 most likely being Malignant and anything below that being Benign.\n",
    "</blockquote>"
   ]
  },
  {
   "cell_type": "code",
   "execution_count": null,
   "metadata": {},
   "outputs": [],
   "source": [
    "plt.figure(figsize=(10,6))\n",
    "sns.kdeplot(cancer_df[cancer_df['2.1'] == 2]['3'], shade=True,label=\"Benign\")\n",
    "sns.kdeplot(cancer_df[cancer_df['2.1'] == 4]['3'], shade=True,label=\"Malignant\")\n",
    "plt.title('Type of Breast Cancer based on Bland Chromatin')\n",
    "plt.ylabel('Total per Type')\n",
    "plt.xlabel('Bland Chromatin')\n",
    "plt.legend(['Benign','Malignant'])"
   ]
  },
  {
   "cell_type": "markdown",
   "metadata": {},
   "source": [
    "<bLockquote>\n",
    "    This would be a good feature to use for modelling. Looking at this graph we can see that it would be a good classifier for \n",
    "    Bening or Malignant tumors. With Bland Chromatin above 3 most likely being Malignant and anything below that being Benign.\n",
    "</blockquote>"
   ]
  },
  {
   "cell_type": "code",
   "execution_count": null,
   "metadata": {},
   "outputs": [],
   "source": [
    "plt.figure(figsize=(10,6))\n",
    "sns.kdeplot(cancer_df[cancer_df['2.1'] == 2]['1.4'], shade=True,label=\"Benign\")\n",
    "sns.kdeplot(cancer_df[cancer_df['2.1'] == 4]['1.4'], shade=True,label=\"Malignant\")\n",
    "plt.title('ype of Breast Cancer based on Normal Nucleoli')\n",
    "plt.ylabel('Total per Type')\n",
    "plt.xlabel('Normal Nucleoli')\n",
    "plt.legend(['Benign','Malignant'])"
   ]
  },
  {
   "cell_type": "markdown",
   "metadata": {},
   "source": [
    "<bLockquote>\n",
    "    This would be a good feature to use for modelling. Looking at this graph we can see that it would be a good classifier for \n",
    "    Bening or Malignant tumors. With Normal Nucleoli above 3 most likely being Malignant and anything below that being Benign.\n",
    "</blockquote>"
   ]
  },
  {
   "cell_type": "code",
   "execution_count": null,
   "metadata": {},
   "outputs": [],
   "source": [
    "plt.figure(figsize=(10,6))\n",
    "sns.kdeplot(cancer_df[cancer_df['2.1'] == 2]['1.5'], shade=True,label=\"Benign\")\n",
    "sns.kdeplot(cancer_df[cancer_df['2.1'] == 4]['1.5'], shade=True,label=\"Malignant\")\n",
    "plt.title('Type of Breast Cancer based on Mitoses')\n",
    "plt.ylabel('Total per Type')\n",
    "plt.xlabel('Mitoses')\n",
    "plt.legend(['Benign','Malignant'])"
   ]
  },
  {
   "cell_type": "markdown",
   "metadata": {},
   "source": [
    "<blockquote>\n",
    "    This would not be a good feature to use as it has an undercoverage bias. From 2 onwards the reasearch population is not being represented accurately. There is not enough data that has been collected in order for us to determine if there actually is a relationship between Breat Cancer and Mistoses. There is a high concentration of data around one. That in and of it self is not enough in order for us to predict future samples. Adding this to the model will make it learn in correct biases that will cause it to make incorrect predictions in the future.\n",
    "   </blockquote>"
   ]
  },
  {
   "cell_type": "markdown",
   "metadata": {},
   "source": [
    "<h1> Splitting Data </h1>"
   ]
  },
  {
   "cell_type": "code",
   "execution_count": null,
   "metadata": {},
   "outputs": [],
   "source": [
    "x = cancer_df[['5', '1', '1.1', '1.2', '2','1.3', '3', '1.4', '2.1']]\n",
    "y = cancer_df['2.1']"
   ]
  },
  {
   "cell_type": "markdown",
   "metadata": {},
   "source": [
    "<h1> Modelling </h1>"
   ]
  },
  {
   "cell_type": "code",
   "execution_count": null,
   "metadata": {},
   "outputs": [],
   "source": [
    "x_train,x_test,y_train,y_test = train_test_split(x,y,test_size=0.30,random_state=1)"
   ]
  },
  {
   "cell_type": "code",
   "execution_count": null,
   "metadata": {},
   "outputs": [],
   "source": [
    "LogReg = LogisticRegression(random_state=1, solver='lbfgs').fit(x_train, y_train)"
   ]
  },
  {
   "cell_type": "code",
   "execution_count": null,
   "metadata": {},
   "outputs": [],
   "source": [
    "y_pred = LogReg.predict(x_test)\n",
    "x_pred = LogReg.predict(x_train)\n",
    "\n",
    "print(\"Test acurracy {}\".format(accuracy_score(y_test,y_pred)))\n",
    "print(\"Train acurracy {}\".format(accuracy_score(y_train,x_pred)))"
   ]
  },
  {
   "cell_type": "markdown",
   "metadata": {},
   "source": [
    "<blockquote>\n",
    "    The model has 100% accuracy meaning that its performing perfectly. I think maybe because the data was designed this way. It is highly unlikely to get a perfectly performing model in real life situations. This is the best model I choose as when I would remove or add features I would either be over or underfitted. This was the only case in which that didn't happen. \n",
    "    </blockquote>"
   ]
  },
  {
   "cell_type": "code",
   "execution_count": null,
   "metadata": {},
   "outputs": [],
   "source": [
    "class_names=[0,1] # name  of classes\n",
    "fig, ax = plt.subplots()\n",
    "tick_marks = np.arange(len(class_names))\n",
    "plt.xticks(tick_marks, class_names)\n",
    "plt.yticks(tick_marks, class_names)\n",
    "# create heatmap\n",
    "sns.heatmap(pd.DataFrame(confusion_matrix(y_test, y_pred)), annot=True, cmap=\"YlGnBu\" ,fmt='g')\n",
    "ax.xaxis.set_label_position(\"top\")\n",
    "ax.set(yticks=[0, 2], \n",
    "       xticks=[0, 1], \n",
    "       yticklabels=class_names, \n",
    "       xticklabels=class_names)\n",
    "plt.tight_layout()\n",
    "plt.title('Confusion matrix', y=1.1)\n",
    "plt.ylabel('Actual label')\n",
    "plt.xlabel('Predicted label')"
   ]
  },
  {
   "cell_type": "markdown",
   "metadata": {},
   "source": [
    "<blockquote>\n",
    "    \n",
    "We have <b>142 True Negatives</b> and there are <b>0 False Positives</b>. We have <b>0 False Negatives</b>, and there are <b>68 True Positives</b>. Overall the model is identifying each and value correctly.  \n",
    "    \n",
    "</blockquote>"
   ]
  },
  {
   "cell_type": "code",
   "execution_count": null,
   "metadata": {},
   "outputs": [],
   "source": [
    "print(classification_report(y_test, y_pred))"
   ]
  },
  {
   "cell_type": "markdown",
   "metadata": {},
   "source": [
    "<blockquote>\n",
    "\n",
    "The precision score 1 meaning that all of the predicted cases were correct. The recall score is 1 meaning that all of the observed cases were correctly predicted. We have an f1 score of 1. Overall looking at these scores we can see that the model is not performing well. I have high precision and low recall meaning that this model will correctly identify each and every case presented to it.\n",
    "\n",
    "</blockquote>"
   ]
  },
  {
   "cell_type": "code",
   "execution_count": null,
   "metadata": {},
   "outputs": [],
   "source": [
    "from sklearn.metrics import roc_auc_score\n",
    "from sklearn.metrics import roc_curve\n",
    "logit_roc_auc = roc_auc_score(y_test,y_pred)\n",
    "fpr, tpr, thresholds = roc_curve(y_test.map({2: 0, 4: 1}), LogReg.predict_proba(x_test)[:,1])\n",
    "plt.figure()\n",
    "plt.plot(fpr, tpr, label='Logistic Regression (area = %0.2f)' % logit_roc_auc)\n",
    "plt.plot([0, 1], [0, 1],'r--')\n",
    "plt.xlim([0.0, 1.0])\n",
    "plt.ylim([0.0, 1.05])\n",
    "plt.xlabel('False Positive Rate')\n",
    "plt.ylabel('True Positive Rate')\n",
    "plt.title('Receiver operating characteristic')\n",
    "plt.legend(loc=\"lower right\")\n",
    "plt.savefig('Log_ROC')\n",
    "plt.show()"
   ]
  },
  {
   "cell_type": "markdown",
   "metadata": {},
   "source": [
    "<blockquote>\n",
    "    Looking at the ROC curve and the area = 1 under the ROC curve we can see that the model is performing perfectly.\n",
    "\n",
    "</blockquote>"
   ]
  }
 ],
 "metadata": {
  "kernelspec": {
   "display_name": "Python 3",
   "language": "python",
   "name": "python3"
  },
  "language_info": {
   "codemirror_mode": {
    "name": "ipython",
    "version": 3
   },
   "file_extension": ".py",
   "mimetype": "text/x-python",
   "name": "python",
   "nbconvert_exporter": "python",
   "pygments_lexer": "ipython3",
   "version": "3.8.5"
  }
 },
 "nbformat": 4,
 "nbformat_minor": 4
}
